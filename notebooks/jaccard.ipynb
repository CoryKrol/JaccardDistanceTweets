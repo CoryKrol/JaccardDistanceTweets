{
  "nbformat": 4,
  "nbformat_minor": 0,
  "metadata": {
    "colab": {
      "name": "jaccard.ipynb",
      "version": "0.3.2",
      "provenance": [],
      "include_colab_link": true
    },
    "kernelspec": {
      "name": "python3",
      "display_name": "Python 3"
    },
    "accelerator": "GPU"
  },
  "cells": [
    {
      "cell_type": "markdown",
      "metadata": {
        "id": "view-in-github",
        "colab_type": "text"
      },
      "source": [
        "<a href=\"https://colab.research.google.com/github/CoryTee/JaccardDistanceTweets/blob/master/notebooks/jaccard.ipynb\" target=\"_parent\"><img src=\"https://colab.research.google.com/assets/colab-badge.svg\" alt=\"Open In Colab\"/></a>"
      ]
    },
    {
      "metadata": {
        "id": "d0TZkrBqrXOD",
        "colab_type": "code",
        "colab": {
          "base_uri": "https://localhost:8080/",
          "height": 35
        },
        "outputId": "64df07c0-8b9c-4732-fa87-4c4ef88c329c"
      },
      "cell_type": "code",
      "source": [
        "import pandas as pd\n",
        "import numpy as np\n",
        "\n",
        "def jaccard_dist(setA, setB):\n",
        "  \"\"\"\n",
        "  Computes the Jaccard Distance of two sample sets (A and B) which measures \n",
        "  dissimilarity between them. It is defined as the difference of the sizes of \n",
        "  the union and the intersection of two sets divided by the size of the union \n",
        "  of the sets.\n",
        "  \n",
        "  JD(a, b) = 1 - (|a_intersect_b|/|a_union_b|)\n",
        "  \n",
        "  How to interpret the result:\n",
        "    -Small if the tweets are similar\n",
        "    -Large if the tweets are not similar\n",
        "    -0 if the tweets have the same words (not counting duplicates or ordering)\n",
        "    -1 if they are completely different (i.e. no overlapping words)\n",
        "    \n",
        "  http://en.wikipedia.org/wiki/Jaccard_index\n",
        "  \"\"\"\n",
        "  \n",
        "  a_union_b = len(setA.union(setB))\n",
        "  a_intersect_b = len(setA.intersection(setB))\n",
        "  \n",
        "  return  1.0 - (a_intersect_b / a_union_b)\n",
        " \n",
        "  \n",
        "# Testing values and code\n",
        "setA = set('the long march'.split())\n",
        "setB = set('ides of march'.split())\n",
        "test_jaccard_dist = 0.8 \n",
        "\n",
        "j_dist = jaccard_dist(setA, setB)\n",
        "\n",
        "if  j_dist == test_jaccard_dist:\n",
        "  print(\"It works\")\n",
        "else:\n",
        "  print(\"You broke something\")\n",
        "  print(str(j_dist))\n",
        "  \n",
        "  \n",
        "  "
      ],
      "execution_count": 90,
      "outputs": [
        {
          "output_type": "stream",
          "text": [
            "It works\n"
          ],
          "name": "stdout"
        }
      ]
    },
    {
      "metadata": {
        "id": "le4aB-4S_DVK",
        "colab_type": "code",
        "colab": {
          "base_uri": "https://localhost:8080/",
          "height": 143
        },
        "outputId": "9ee83847-bc71-49a1-9d80-5134e71c72db"
      },
      "cell_type": "code",
      "source": [
        "import pandas as pd\n",
        "import numpy as np\n",
        "\n",
        "# Tweet data location in Google Colab\n",
        "data_url = 'file://localhost/content/Tweets.json'\n",
        "tweets = pd.read_json(data_url, lines=True, orient='records')\n",
        "num_rows = tweets.shape[0]\n",
        "half_rows = int(num_rows/2)\n",
        "\n",
        "# Drop all columns except for the tweet text to save memory\n",
        "tweets = tweets[['text']]\n",
        "\n",
        "# Split tweet text data using spaces and save to new 'list' column before set\n",
        "# conversion then apply the set_from_list function to the new list 'column'\n",
        "tweets['list'] = tweets['text'].str.split()\n",
        "\n",
        "# Convert the lists of words for tweets into sets\n",
        "to_set = lambda x: set(x)\n",
        "tweets['set'] = tweets['list'].apply(to_set)\n",
        "  \n",
        "                   \n",
        "# Remove list column to free up memory\n",
        "tweets = tweets.drop(['list'], axis=1)  \n",
        "\n",
        "# Empty 2d NxN numpy array to hold Jaccard Distances\n",
        "jaccard_values = np.zeros((num_rows, num_rows))\n",
        "\n",
        "# Calculate Jaccard Distances between each tweeet\n",
        "# Stop after the middle row, remaining values will be copied since they have\n",
        "# already been calculated\n",
        "for i in range(0, half_rows):\n",
        "  for j in range(0, num_rows):\n",
        "    if i != j:\n",
        "      setA = tweets.loc[[i],['set']]['set'][i]\n",
        "      setB = tweets.loc[[j],['set']]['set'][j]\n",
        "      \n",
        "      jaccard_values[i, j] = jaccard_dist(setA, setB)\n",
        "    else:\n",
        "      jaccard_values[i, i] = 0\n",
        "\n",
        "      \n",
        "# Copy calculated values to the rest of the rows  \n",
        "for i in range(half_rows, num_rows):\n",
        "  for j in range(0, num_rows):\n",
        "    if i != j:\n",
        "      jaccard_values[i, j] = jaccard_values[j, i]\n",
        "    else:\n",
        "      jaccard_values[i, i] = 0\n",
        "      \n",
        "        \n",
        "      \n",
        "print(jaccard_values)"
      ],
      "execution_count": 91,
      "outputs": [
        {
          "output_type": "stream",
          "text": [
            "[[0.         0.17391304 0.17391304 ... 0.97368421 0.97368421 0.96875   ]\n",
            " [0.17391304 0.         0.         ... 0.97368421 0.97368421 0.96875   ]\n",
            " [0.17391304 0.         0.         ... 0.97368421 0.97368421 0.96875   ]\n",
            " ...\n",
            " [0.97368421 0.97368421 0.97368421 ... 0.         0.         0.        ]\n",
            " [0.97368421 0.97368421 0.97368421 ... 0.         0.         0.        ]\n",
            " [0.96875    0.96875    0.96875    ... 0.         0.         0.        ]]\n"
          ],
          "name": "stdout"
        }
      ]
    },
    {
      "metadata": {
        "id": "SqcJkMFKrpcF",
        "colab_type": "code",
        "colab": {}
      },
      "cell_type": "code",
      "source": [
        ""
      ],
      "execution_count": 0,
      "outputs": []
    }
  ]
}