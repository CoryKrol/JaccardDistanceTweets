{
  "nbformat": 4,
  "nbformat_minor": 0,
  "metadata": {
    "colab": {
      "name": "jaccard.ipynb",
      "version": "0.3.2",
      "provenance": [],
      "include_colab_link": true
    },
    "kernelspec": {
      "name": "python3",
      "display_name": "Python 3"
    },
    "accelerator": "GPU"
  },
  "cells": [
    {
      "cell_type": "markdown",
      "metadata": {
        "id": "view-in-github",
        "colab_type": "text"
      },
      "source": [
        "<a href=\"https://colab.research.google.com/github/CoryTee/JaccardDistanceTweets/blob/master/notebooks/jaccard.ipynb\" target=\"_parent\"><img src=\"https://colab.research.google.com/assets/colab-badge.svg\" alt=\"Open In Colab\"/></a>"
      ]
    },
    {
      "metadata": {
        "id": "d0TZkrBqrXOD",
        "colab_type": "code",
        "colab": {
          "base_uri": "https://localhost:8080/",
          "height": 35
        },
        "outputId": "e27e9c8f-cd5b-4a2e-8a6a-1ba8cd98ac82"
      },
      "cell_type": "code",
      "source": [
        "import pandas as pd\n",
        "import numpy as np\n",
        "\n",
        "def jaccard_dist(setA, setB):\n",
        "  \"\"\"\n",
        "  Computes the Jaccard Distance of two sample sets (A and B) which measures \n",
        "  dissimilarity between them. It is defined as the difference of the sizes of \n",
        "  the union and the intersection of two sets divided by the size of the union \n",
        "  of the sets.\n",
        "  \n",
        "  JD(a, b) = (|a_uion_b| - |a_intersect_b|)/ |a_union_b|\n",
        "  \n",
        "  How to interpret the result:\n",
        "    -Small if the tweets are similar\n",
        "    -Large if the tweets are not similar\n",
        "    -0 if the tweets have the same words (not counting duplicates or ordering)\n",
        "    -1 if they are completely different (i.e. no overlapping words)\n",
        "    \n",
        "  http://en.wikipedia.org/wiki/Jaccard_index\n",
        "  \"\"\"\n",
        "  \n",
        "  a_union_b = len(setA.union(setB))\n",
        "  a_intersect_b = len(setA.intersection(setB))\n",
        "  \n",
        "  return (a_union_b - a_intersect_b) / a_union_b\n",
        " \n",
        "  \n",
        "# Testing values and code\n",
        "test_string_a = set('the long march'.split())\n",
        "test_string_b = set('ides of march'.split())\n",
        "test_jaccard_dist = 0.8 \n",
        "\n",
        "if jaccard_dist(setA, setB) == test_jaccard_dist:\n",
        "  print(\"It works\")\n",
        "else:\n",
        "  print(\"You broke something\")\n",
        "  \n",
        "  \n",
        "  "
      ],
      "execution_count": 63,
      "outputs": [
        {
          "output_type": "stream",
          "text": [
            "It works\n"
          ],
          "name": "stdout"
        }
      ]
    },
    {
      "metadata": {
        "id": "le4aB-4S_DVK",
        "colab_type": "code",
        "colab": {
          "base_uri": "https://localhost:8080/",
          "height": 35
        },
        "outputId": "bbd9a2dd-cd41-40c2-a820-7efc00b53db5"
      },
      "cell_type": "code",
      "source": [
        "import pandas as pd\n",
        "import numpy as np\n",
        "\n",
        "data_url = 'file://localhost/content/Tweets.json'\n",
        "\n",
        "\n",
        "tweets = pd.read_json(data_url, lines=True, orient='records')\n",
        "\n",
        "#tweets.shape\n",
        "tweets.columns\n",
        "#tweets.info()\n",
        "#tweets.count()\n",
        "\n",
        "\n",
        "# Split tweet text data using spaces\n",
        "\n",
        "#setA = set(tweets.loc[[0], ['text']])\n",
        "#setB = set(tweets.loc[[1], ['text']])\n",
        "print()"
      ],
      "execution_count": 62,
      "outputs": [
        {
          "output_type": "stream",
          "text": [
            "0.8\n"
          ],
          "name": "stdout"
        }
      ]
    },
    {
      "metadata": {
        "id": "SqcJkMFKrpcF",
        "colab_type": "code",
        "colab": {}
      },
      "cell_type": "code",
      "source": [
        ""
      ],
      "execution_count": 0,
      "outputs": []
    }
  ]
}